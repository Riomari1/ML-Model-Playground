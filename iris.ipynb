{
 "cells": [
  {
   "cell_type": "code",
   "execution_count": 35,
   "metadata": {},
   "outputs": [
    {
     "ename": "ModuleNotFoundError",
     "evalue": "No module named 'tensorflow'",
     "output_type": "error",
     "traceback": [
      "\u001b[0;31m---------------------------------------------------------------------------\u001b[0m",
      "\u001b[0;31mModuleNotFoundError\u001b[0m                       Traceback (most recent call last)",
      "\u001b[1;32m/Users/riomari/Music/Study/Iris_SoftMaxing/iris.ipynb Cell 1\u001b[0m line \u001b[0;36m3\n\u001b[1;32m      <a href='vscode-notebook-cell:/Users/riomari/Music/Study/Iris_SoftMaxing/iris.ipynb#W0sZmlsZQ%3D%3D?line=0'>1</a>\u001b[0m \u001b[39mimport\u001b[39;00m \u001b[39mnumpy\u001b[39;00m \u001b[39mas\u001b[39;00m \u001b[39mnp\u001b[39;00m\n\u001b[1;32m      <a href='vscode-notebook-cell:/Users/riomari/Music/Study/Iris_SoftMaxing/iris.ipynb#W0sZmlsZQ%3D%3D?line=1'>2</a>\u001b[0m \u001b[39mimport\u001b[39;00m \u001b[39mmatplotlib\u001b[39;00m\u001b[39m.\u001b[39;00m\u001b[39mpyplot\u001b[39;00m \u001b[39mas\u001b[39;00m \u001b[39mplt\u001b[39;00m\n\u001b[0;32m----> <a href='vscode-notebook-cell:/Users/riomari/Music/Study/Iris_SoftMaxing/iris.ipynb#W0sZmlsZQ%3D%3D?line=2'>3</a>\u001b[0m \u001b[39mimport\u001b[39;00m \u001b[39mtensorflow\u001b[39;00m \u001b[39mas\u001b[39;00m \u001b[39mtf\u001b[39;00m\n",
      "\u001b[0;31mModuleNotFoundError\u001b[0m: No module named 'tensorflow'"
     ]
    }
   ],
   "source": [
    "import numpy as np\n",
    "import matplotlib.pyplot as plt\n",
    "import tensorflow as tf"
   ]
  },
  {
   "cell_type": "code",
   "execution_count": 32,
   "metadata": {},
   "outputs": [],
   "source": [
    "#load data\n",
    "%store -r X_train\n",
    "%store -r X_test\n",
    "%store -r y_train\n",
    "%store -r y_test\n"
   ]
  },
  {
   "cell_type": "code",
   "execution_count": 33,
   "metadata": {},
   "outputs": [],
   "source": [
    "def main(X, Y):\n",
    "    model = tf.keras.Sequential([\n",
    "            tf.keras.input(shape=(100,4)),\n",
    "            Dense(64, activation='relu', input_shape=(784,)),\n",
    "            Dense(64, activation='relu'),\n",
    "            Dense(10, activation='linear')\n",
    "            ])\n",
    "    model.compile(tf.keras.optimizers.Adam(learning_rate=0.001),\n",
    "                  loss = tf.keras.losses.SparseCategoricalCrossentropy(from_logits = True))\n",
    "    model.fit(X,Y,epoch = 100)\n",
    "    return model"
   ]
  },
  {
   "cell_type": "code",
   "execution_count": 34,
   "metadata": {},
   "outputs": [
    {
     "ename": "NameError",
     "evalue": "name 'tf' is not defined",
     "output_type": "error",
     "traceback": [
      "\u001b[0;31m---------------------------------------------------------------------------\u001b[0m",
      "\u001b[0;31mNameError\u001b[0m                                 Traceback (most recent call last)",
      "\u001b[1;32m/Users/riomari/Music/Study/Iris_SoftMaxing/iris.ipynb Cell 4\u001b[0m line \u001b[0;36m1\n\u001b[0;32m----> <a href='vscode-notebook-cell:/Users/riomari/Music/Study/Iris_SoftMaxing/iris.ipynb#W3sZmlsZQ%3D%3D?line=0'>1</a>\u001b[0m model \u001b[39m=\u001b[39m main(X_train, y_train)\n\u001b[1;32m      <a href='vscode-notebook-cell:/Users/riomari/Music/Study/Iris_SoftMaxing/iris.ipynb#W3sZmlsZQ%3D%3D?line=1'>2</a>\u001b[0m logits \u001b[39m=\u001b[39m model(X_train)\n\u001b[1;32m      <a href='vscode-notebook-cell:/Users/riomari/Music/Study/Iris_SoftMaxing/iris.ipynb#W3sZmlsZQ%3D%3D?line=2'>3</a>\u001b[0m fx \u001b[39m=\u001b[39m tf\u001b[39m.\u001b[39mnn\u001b[39m.\u001b[39msoftmax(logits)\n",
      "\u001b[1;32m/Users/riomari/Music/Study/Iris_SoftMaxing/iris.ipynb Cell 4\u001b[0m line \u001b[0;36m2\n\u001b[1;32m      <a href='vscode-notebook-cell:/Users/riomari/Music/Study/Iris_SoftMaxing/iris.ipynb#W3sZmlsZQ%3D%3D?line=0'>1</a>\u001b[0m \u001b[39mdef\u001b[39;00m \u001b[39mmain\u001b[39m(X, Y):\n\u001b[0;32m----> <a href='vscode-notebook-cell:/Users/riomari/Music/Study/Iris_SoftMaxing/iris.ipynb#W3sZmlsZQ%3D%3D?line=1'>2</a>\u001b[0m     model \u001b[39m=\u001b[39m tf\u001b[39m.\u001b[39mkeras\u001b[39m.\u001b[39mSequential([\n\u001b[1;32m      <a href='vscode-notebook-cell:/Users/riomari/Music/Study/Iris_SoftMaxing/iris.ipynb#W3sZmlsZQ%3D%3D?line=2'>3</a>\u001b[0m             tf\u001b[39m.\u001b[39mkeras\u001b[39m.\u001b[39minput(shape\u001b[39m=\u001b[39m(\u001b[39m100\u001b[39m,\u001b[39m4\u001b[39m)),\n\u001b[1;32m      <a href='vscode-notebook-cell:/Users/riomari/Music/Study/Iris_SoftMaxing/iris.ipynb#W3sZmlsZQ%3D%3D?line=3'>4</a>\u001b[0m             Dense(\u001b[39m64\u001b[39m, activation\u001b[39m=\u001b[39m\u001b[39m'\u001b[39m\u001b[39mrelu\u001b[39m\u001b[39m'\u001b[39m, input_shape\u001b[39m=\u001b[39m(\u001b[39m784\u001b[39m,)),\n\u001b[1;32m      <a href='vscode-notebook-cell:/Users/riomari/Music/Study/Iris_SoftMaxing/iris.ipynb#W3sZmlsZQ%3D%3D?line=4'>5</a>\u001b[0m             Dense(\u001b[39m64\u001b[39m, activation\u001b[39m=\u001b[39m\u001b[39m'\u001b[39m\u001b[39mrelu\u001b[39m\u001b[39m'\u001b[39m),\n\u001b[1;32m      <a href='vscode-notebook-cell:/Users/riomari/Music/Study/Iris_SoftMaxing/iris.ipynb#W3sZmlsZQ%3D%3D?line=5'>6</a>\u001b[0m             Dense(\u001b[39m10\u001b[39m, activation\u001b[39m=\u001b[39m\u001b[39m'\u001b[39m\u001b[39mlinear\u001b[39m\u001b[39m'\u001b[39m)\n\u001b[1;32m      <a href='vscode-notebook-cell:/Users/riomari/Music/Study/Iris_SoftMaxing/iris.ipynb#W3sZmlsZQ%3D%3D?line=6'>7</a>\u001b[0m             ])\n\u001b[1;32m      <a href='vscode-notebook-cell:/Users/riomari/Music/Study/Iris_SoftMaxing/iris.ipynb#W3sZmlsZQ%3D%3D?line=7'>8</a>\u001b[0m     model\u001b[39m.\u001b[39mcompile(tf\u001b[39m.\u001b[39mkeras\u001b[39m.\u001b[39moptimizers\u001b[39m.\u001b[39mAdam(learning_rate\u001b[39m=\u001b[39m\u001b[39m0.001\u001b[39m),\n\u001b[1;32m      <a href='vscode-notebook-cell:/Users/riomari/Music/Study/Iris_SoftMaxing/iris.ipynb#W3sZmlsZQ%3D%3D?line=8'>9</a>\u001b[0m                   loss \u001b[39m=\u001b[39m tf\u001b[39m.\u001b[39mkeras\u001b[39m.\u001b[39mlosses\u001b[39m.\u001b[39mSparseCategoricalCrossentropy(from_logits \u001b[39m=\u001b[39m \u001b[39mTrue\u001b[39;00m))\n\u001b[1;32m     <a href='vscode-notebook-cell:/Users/riomari/Music/Study/Iris_SoftMaxing/iris.ipynb#W3sZmlsZQ%3D%3D?line=9'>10</a>\u001b[0m     model\u001b[39m.\u001b[39mfit(X,Y,epoch \u001b[39m=\u001b[39m \u001b[39m100\u001b[39m)\n",
      "\u001b[0;31mNameError\u001b[0m: name 'tf' is not defined"
     ]
    }
   ],
   "source": [
    "model = main(X_train, y_train)\n",
    "logits = model(X_train)\n",
    "fx = tf.nn.softmax(logits)\n",
    "print(fx)"
   ]
  }
 ],
 "metadata": {
  "kernelspec": {
   "display_name": "base",
   "language": "python",
   "name": "python3"
  },
  "language_info": {
   "codemirror_mode": {
    "name": "ipython",
    "version": 3
   },
   "file_extension": ".py",
   "mimetype": "text/x-python",
   "name": "python",
   "nbconvert_exporter": "python",
   "pygments_lexer": "ipython3",
   "version": "3.12.2"
  },
  "orig_nbformat": 4
 },
 "nbformat": 4,
 "nbformat_minor": 2
}
